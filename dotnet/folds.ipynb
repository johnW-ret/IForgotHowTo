{
 "cells": [
  {
   "cell_type": "code",
   "execution_count": 6,
   "metadata": {
    "dotnet_interactive": {
     "language": "csharp"
    },
    "polyglot_notebook": {
     "kernelName": "csharp"
    }
   },
   "outputs": [
    {
     "data": {
      "text/html": [
       "<details open=\"open\" class=\"dni-treeview\"><summary><span class=\"dni-code-hint\"><code>Node { Value = 4, Children = System.Collections.Immutable.ImmutableList`1[Submission#7+Tree`1[System.Int32]] }</code></span></summary><div><table><thead><tr></tr></thead><tbody><tr><td>Children</td><td><table><thead><tr><th><i>index</i></th><th>value</th></tr></thead><tbody><tr><td>0</td><td><details class=\"dni-treeview\"><summary><span class=\"dni-code-hint\"><code>Leaf { Value = 4 }</code></span></summary><div><table><thead><tr></tr></thead><tbody><tr><td>Value</td><td><div class=\"dni-plaintext\"><pre>4</pre></div></td></tr></tbody></table></div></details></td></tr><tr><td>1</td><td><details class=\"dni-treeview\"><summary><span class=\"dni-code-hint\"><code>Leaf { Value = 3 }</code></span></summary><div><table><thead><tr></tr></thead><tbody><tr><td>Value</td><td><div class=\"dni-plaintext\"><pre>3</pre></div></td></tr></tbody></table></div></details></td></tr></tbody></table></td></tr><tr><td>Value</td><td><div class=\"dni-plaintext\"><pre>4</pre></div></td></tr></tbody></table></div></details><style>\r\n",
       ".dni-code-hint {\r\n",
       "    font-style: italic;\r\n",
       "    overflow: hidden;\r\n",
       "    white-space: nowrap;\r\n",
       "}\r\n",
       ".dni-treeview {\r\n",
       "    white-space: nowrap;\r\n",
       "}\r\n",
       ".dni-treeview td {\r\n",
       "    vertical-align: top;\r\n",
       "    text-align: start;\r\n",
       "}\r\n",
       "details.dni-treeview {\r\n",
       "    padding-left: 1em;\r\n",
       "}\r\n",
       "table td {\r\n",
       "    text-align: start;\r\n",
       "}\r\n",
       "table tr { \r\n",
       "    vertical-align: top; \r\n",
       "    margin: 0em 0px;\r\n",
       "}\r\n",
       "table tr td pre \r\n",
       "{ \r\n",
       "    vertical-align: top !important; \r\n",
       "    margin: 0em 0px !important;\r\n",
       "} \r\n",
       "table th {\r\n",
       "    text-align: start;\r\n",
       "}\r\n",
       "</style>"
      ]
     },
     "metadata": {},
     "output_type": "display_data"
    }
   ],
   "source": [
    "using System.Collections.Immutable;\n",
    "\n",
    "public abstract record Tree<T>(T Value)\n",
    "{\n",
    "    public record Node(T Value, ImmutableList<Tree<T>> Children) : Tree<T>(Value);\n",
    "    public record Leaf(T Value) : Tree<T>(Value);\n",
    "}\n",
    "\n",
    "new Tree<int>.Node(\n",
    "    4,\n",
    "    ImmutableList.Create<Tree<int>>(\n",
    "        new Tree<int>.Leaf(4),\n",
    "        new Tree<int>.Leaf(3)\n",
    "))"
   ]
  },
  {
   "cell_type": "code",
   "execution_count": 7,
   "metadata": {
    "dotnet_interactive": {
     "language": "csharp"
    },
    "polyglot_notebook": {
     "kernelName": "csharp"
    }
   },
   "outputs": [],
   "source": [
    "static TAcc AggregateBack<TAcc, T>(this ImmutableList<T> list, TAcc seed, Func<TAcc, T, TAcc> func)\n",
    "{\n",
    "    return list.Aggregate<T, Func<TAcc, TAcc>>(\n",
    "        acc => acc,\n",
    "        // foldBack\n",
    "        (acc, x) => (TAcc nextAcc) => acc(func(nextAcc, x))\n",
    "        // fold\n",
    "        //(acc, x) => (TAcc nextAcc) => func(acc(nextAcc), x)\n",
    "    ).Invoke(seed);\n",
    "}"
   ]
  },
  {
   "cell_type": "code",
   "execution_count": 8,
   "metadata": {
    "dotnet_interactive": {
     "language": "csharp"
    },
    "polyglot_notebook": {
     "kernelName": "csharp"
    }
   },
   "outputs": [
    {
     "data": {
      "text/plain": [
       ">>seed<< -> leaf1.2 -> node1.2 -> subnode1.1 -> node1.1 -> subnode1 -> node1"
      ]
     },
     "metadata": {},
     "output_type": "display_data"
    }
   ],
   "source": [
    "// https://stackoverflow.com/questions/75323058/a-foldback-function-for-tree-in-f\n",
    "\n",
    "static TAcc AggregateBack<TAcc, T>(this Tree<T> tree, TAcc seed, Func<TAcc, T, TAcc> folder)\n",
    "{\n",
    "    Func<TAcc, TAcc> Aggregate(Func<TAcc, TAcc> acc, Tree<T> tree)\n",
    "    {\n",
    "        return ((Func<Func<TAcc, TAcc>>)(tree switch\n",
    "        {\n",
    "            Tree<T>.Leaf leaf => () =>\n",
    "            {\n",
    "                Func<TAcc, TAcc> acc1 = (inner) => folder(acc(inner), leaf.Value);\n",
    "                return acc1;\n",
    "            },\n",
    "            Tree<T>.Node node => () =>\n",
    "            {\n",
    "                Func<TAcc, TAcc> acc1 =\n",
    "                    (inner) => node.Children.AggregateBack(inner, (_acc, tree) => Aggregate(acc, tree).Invoke(_acc))\n",
    "                ;\n",
    "                Func<TAcc, TAcc> acc2 = (inner) => folder(acc1(inner), node.Value);\n",
    "                \n",
    "                return acc2;\n",
    "            }\n",
    "        }))();\n",
    "    }\n",
    "\n",
    "    return Aggregate(a => a, tree).Invoke(seed);\n",
    "}\n",
    "\n",
    "var treeSample =\n",
    "    new Tree<string>.Node(\"node1\", ImmutableList.Create<Tree<string>>(\n",
    "            new Tree<string>.Leaf(\"subnode1\"),\n",
    "            new Tree<string>.Node(\"node1.1\", ImmutableList.Create<Tree<string>>(\n",
    "                new Tree<string>.Leaf(\"subnode1.1\"),\n",
    "                new Tree<string>.Node(\"node1.2\", ImmutableList.Create<Tree<string>>(\n",
    "                    new Tree<string>.Leaf(\"leaf1.2\")\n",
    "                ))\n",
    "            ))\n",
    "    ));\n",
    "\n",
    "treeSample.AggregateBack(\">>seed<<\", (value, acc) => $\"{value} -> {acc}\")\n"
   ]
  }
 ],
 "metadata": {
  "kernelspec": {
   "display_name": ".NET (C#)",
   "language": "C#",
   "name": ".net-csharp"
  },
  "language_info": {
   "name": "polyglot-notebook"
  },
  "polyglot_notebook": {
   "kernelInfo": {
    "defaultKernelName": "csharp",
    "items": [
     {
      "aliases": [],
      "languageName": "csharp",
      "name": "csharp"
     }
    ]
   }
  }
 },
 "nbformat": 4,
 "nbformat_minor": 2
}

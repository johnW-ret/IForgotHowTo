{
 "cells": [
  {
   "cell_type": "markdown",
   "metadata": {},
   "source": [
    "OCaml JMP Kernel\n",
    "================"
   ]
  },
  {
   "cell_type": "markdown",
   "metadata": {},
   "source": [
    "1. Install OCaml Jupyter on WSL2: https://akabe.github.io/ocaml-jupyter\n",
    "2. Follow instructions at [this comment](https://github.com/akabe/ocaml-jupyter/issues/162#issuecomment-830634911) and place `let () = Topdirs.dir_directory (Sys.getenv \"OCAML_TOPLEVEL_PATH\")` at the top of your `.ocamlinit`.\n",
    "3. `code`\n",
    "4. Install Polyglot Notebooks VS Code extension\n",
    "5. `sudo snap install dotnet-sdk --classic`\n",
    "6. `jupyter notebook --NotebookApp.disable_check_xsrf=True` (probably should find a safer workaround)\n",
    "7. In notebook cell:\n",
    "    ```\n",
    "    #!connect jupyter --url http://localhost:8888 --token <get-from-jupyter-terminal> --kernel-name ocamlkernel --kernel-spec ocaml-jupyter-default\n",
    "    ```"
   ]
  },
  {
   "cell_type": "code",
   "execution_count": 1,
   "metadata": {
    "dotnet_interactive": {
     "language": "csharp"
    },
    "polyglot_notebook": {
     "kernelName": "csharp"
    }
   },
   "outputs": [
    {
     "data": {
      "text/markdown": [
       "The `#!connect jupyter` feature is in preview. Please report any feedback or issues at https://github.com/dotnet/interactive/issues/new/choose."
      ]
     },
     "metadata": {},
     "output_type": "display_data"
    },
    {
     "data": {
      "text/plain": [
       "Kernel added: #!ocamlkernel"
      ]
     },
     "metadata": {},
     "output_type": "display_data"
    }
   ],
   "source": [
    "#!connect jupyter --url http://localhost:8888 --token @input:token --kernel-name ocamlkernel --kernel-spec ocaml-jupyter-default"
   ]
  },
  {
   "cell_type": "code",
   "execution_count": 2,
   "metadata": {
    "dotnet_interactive": {
     "language": "ocamlkernel"
    },
    "polyglot_notebook": {
     "kernelName": "ocamlkernel"
    }
   },
   "outputs": [
    {
     "data": {
      "text/plain": [
       "val fact : int -> int = <fun>\n"
      ]
     },
     "metadata": {},
     "output_type": "display_data"
    },
    {
     "data": {
      "text/plain": [
       "- : int = 120\n"
      ]
     },
     "metadata": {},
     "output_type": "display_data"
    }
   ],
   "source": [
    "(* from https://v2.ocaml.org/learn/taste.html *)\n",
    "let rec fact x =\n",
    "    if x <= 1 then 1 else x * fact (x - 1);;\n",
    "fact 5;;"
   ]
  }
 ],
 "metadata": {
  "kernelspec": {
   "display_name": ".NET (C#)",
   "language": "C#",
   "name": ".net-csharp"
  },
  "language_info": {
   "name": "polyglot-notebook"
  },
  "polyglot_notebook": {
   "kernelInfo": {
    "defaultKernelName": "csharp",
    "items": [
     {
      "aliases": [],
      "languageName": "csharp",
      "name": "csharp"
     },
     {
      "aliases": [],
      "languageName": "OCaml",
      "name": "ocamlkernel"
     }
    ]
   }
  }
 },
 "nbformat": 4,
 "nbformat_minor": 2
}
